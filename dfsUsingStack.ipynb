{
  "nbformat": 4,
  "nbformat_minor": 0,
  "metadata": {
    "colab": {
      "provenance": []
    },
    "kernelspec": {
      "name": "python3",
      "display_name": "Python 3"
    },
    "language_info": {
      "name": "python"
    }
  },
  "cells": [
    {
      "cell_type": "code",
      "execution_count": 1,
      "metadata": {
        "colab": {
          "base_uri": "https://localhost:8080/"
        },
        "id": "Izx2ahmVwMpA",
        "outputId": "64bf5105-ad5b-4bfd-e742-d15a23da19dd"
      },
      "outputs": [
        {
          "output_type": "stream",
          "name": "stdout",
          "text": [
            "DFS traversal order(using stack): \n",
            "A B D E C F "
          ]
        }
      ],
      "source": [
        "graph = {\n",
        "    'A':['B','C'],\n",
        "    'B':['D','E'],\n",
        "    'C':['F'],\n",
        "    'D':[],\n",
        "    'E':[],\n",
        "    'F':[]\n",
        "}\n",
        "\n",
        "def dfs(graph, start_node):\n",
        "  stack=[start_node];\n",
        "  visited=set() # set() -> unordered collection of unique elements\n",
        "  while stack: # loop until stack is empty\n",
        "    current_node = stack.pop()\n",
        "    if current_node not in visited:\n",
        "      print(current_node, end=' ')\n",
        "      visited.add(current_node)\n",
        "      for neighbor in reversed(graph[current_node]):\n",
        "        stack.append(neighbor)\n",
        "\n",
        "print(\"DFS traversal order(using stack): \")\n",
        "dfs(graph,'A')"
      ]
    }
  ]
}